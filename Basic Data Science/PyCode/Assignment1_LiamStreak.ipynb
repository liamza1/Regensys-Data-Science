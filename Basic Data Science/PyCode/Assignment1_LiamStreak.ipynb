{
  "nbformat": 4,
  "nbformat_minor": 0,
  "metadata": {
    "colab": {
      "name": "Assignment1-LiamStreak.ipynb",
      "provenance": []
    },
    "kernelspec": {
      "name": "python3",
      "display_name": "Python 3"
    },
    "language_info": {
      "name": "python"
    }
  },
  "cells": [
    {
      "cell_type": "code",
      "source": [
        "!pip install forex_python"
      ],
      "metadata": {
        "id": "kNuX9r6owpfa"
      },
      "execution_count": null,
      "outputs": []
    },
    {
      "cell_type": "code",
      "execution_count": null,
      "metadata": {
        "id": "-Q7RKkWTg1RD"
      },
      "outputs": [],
      "source": [
        "#Task corruncy conversion- input RAND, output USD/INR\n",
        "from forex_python.converter import CurrencyRates\n",
        "\n",
        "c = CurrencyRates()\n",
        "v = c.get_rate('USD', 'ZAR')\n",
        "x = c.get_rate('INR','ZAR')\n",
        "rand_value=float(input(\"Enter amount in rand: \"))\n",
        "inr_val= round(rand_value/x,2)\n",
        "usd_value=round(rand_value/v, 2)\n",
        "print(\"R\",rand_value,\" is equivalent of \", usd_value,\" USD at a conversion rate of \",round(v,2))\n",
        "print(\"R\",rand_value,\" is equivalent of \", inr_val,\" INR at a conversion rate of \",round(x,2))"
      ]
    },
    {
      "cell_type": "code",
      "source": [
        "# task temp convert \n",
        "cel_val = float(input(\"please enter your value for conversion \"))\n",
        "far_val = (cel_val * 1.8) + 32\n",
        "far_rev = (cel_val -32) / 1.8\n",
        "print(\"The temp of \",cel_val,chr(176),\"C  is the same as \",far_val,chr(176),\"F while \",cel_val,chr(176),\" F is the same as \",far_rev,chr(176),\"C\")"
      ],
      "metadata": {
        "id": "NZrWoa1UhB_8"
      },
      "execution_count": null,
      "outputs": []
    },
    {
      "cell_type": "code",
      "source": [
        "#Task area of triangle - input - ht, base, output area of triangle\n",
        "ht,base  = map(float,input(\"Enter the hieght of the triangle: then spacebar then base of the triangle: \").split())\n",
        "\n",
        "area = (base * ht)/2\n",
        "pi = 3.14\n",
        "area_circ = pi * ht *ht\n",
        "print (\"The area of the triangle is \",area)\n",
        "print (\"the area of a circle with  a radius the same height as the triangle would be\",area_circ)"
      ],
      "metadata": {
        "id": "QpWvZCCkhGR1"
      },
      "execution_count": null,
      "outputs": []
    },
    {
      "cell_type": "code",
      "source": [
        "\n",
        "#Task calculate simple intrest- input p,n,r, output simple intrest\n",
        "p = float(input(\"Please enter Primary Balance in whole number: \"))\n",
        "r = float(input(\"Please input base intrest rate in whole number: \"))\n",
        "t,m = map(float,input(\"Please input number of years: then space bar months: \").split())\n",
        "m = m/12\n",
        "t = t +m\n",
        "final_r = 25\n",
        "\n",
        "while (r <= final_r):\n",
        "  final_amount = (p * r * t)/100\n",
        "  print (\"The final amount is R\",final_amount + p,\"simple intrest is \",final_amount,\" at \",r,chr(37),\"in \",t,\"years\",chr(13))\n",
        "  r+=1"
      ],
      "metadata": {
        "id": "kWya5jv5hnCa"
      },
      "execution_count": null,
      "outputs": []
    },
    {
      "cell_type": "code",
      "source": [
        "#Task lenth conversion- input Kilometers , output miles\n",
        "km= float(input(\"please input kilometer value \"))\n",
        "m_val = km*0.62\n",
        "print(\"a distance of \",km,\" km is equal to \",m_val,\" in miles\")"
      ],
      "metadata": {
        "id": "9Rh3Kpjgh1Fx"
      },
      "execution_count": null,
      "outputs": []
    }
  ]
}