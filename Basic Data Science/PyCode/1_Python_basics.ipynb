{
  "cells": [
    {
      "cell_type": "code",
      "execution_count": null,
      "id": "c3ae3d38",
      "metadata": {
        "id": "c3ae3d38",
        "outputId": "1bc8b2a4-b475-466f-829e-015b1f73894c"
      },
      "outputs": [
        {
          "name": "stdout",
          "output_type": "stream",
          "text": [
            "Welcome\n"
          ]
        }
      ],
      "source": [
        "# This is a single line comment\n",
        "\"\"\"\n",
        "Python \n",
        "multiline\n",
        "comment\n",
        "\"\"\"\n",
        "print(\"Welcome\")"
      ]
    },
    {
      "cell_type": "code",
      "execution_count": null,
      "id": "06475a0a",
      "metadata": {
        "id": "06475a0a",
        "outputId": "b54f6581-232e-4a0d-a3a1-3cea02c655da",
        "colab": {
          "base_uri": "https://localhost:8080/"
        }
      },
      "outputs": [
        {
          "output_type": "stream",
          "name": "stdout",
          "text": [
            "We\n",
            "to my \n",
            "b\t ok\n"
          ]
        }
      ],
      "source": [
        "a=\"We\\nto my \\nb\\t ok\"\n",
        "\n",
        "print(a)"
      ]
    },
    {
      "cell_type": "code",
      "execution_count": null,
      "id": "ecd2e2b4",
      "metadata": {
        "id": "ecd2e2b4"
      },
      "outputs": [],
      "source": [
        "x=10"
      ]
    },
    {
      "cell_type": "code",
      "execution_count": null,
      "id": "5f2e772f",
      "metadata": {
        "id": "5f2e772f",
        "outputId": "a9c6308b-8912-49c9-a9e8-54915142ff35"
      },
      "outputs": [
        {
          "data": {
            "text/plain": [
              "10"
            ]
          },
          "execution_count": 6,
          "metadata": {},
          "output_type": "execute_result"
        }
      ],
      "source": [
        "x"
      ]
    },
    {
      "cell_type": "code",
      "execution_count": null,
      "id": "7cd6571e",
      "metadata": {
        "id": "7cd6571e",
        "outputId": "c43609ca-d1f7-422d-af17-60aea37934ef"
      },
      "outputs": [
        {
          "name": "stdout",
          "output_type": "stream",
          "text": [
            "10\n"
          ]
        }
      ],
      "source": [
        "print(x)"
      ]
    },
    {
      "cell_type": "code",
      "execution_count": null,
      "id": "762e188d",
      "metadata": {
        "id": "762e188d"
      },
      "outputs": [],
      "source": [
        "x=20"
      ]
    },
    {
      "cell_type": "code",
      "execution_count": null,
      "id": "dbc16bfd",
      "metadata": {
        "id": "dbc16bfd",
        "outputId": "0946bdd8-473d-4f30-ae60-3b5316ca7826"
      },
      "outputs": [
        {
          "name": "stdout",
          "output_type": "stream",
          "text": [
            "20\n"
          ]
        }
      ],
      "source": [
        "print(x)"
      ]
    },
    {
      "cell_type": "code",
      "execution_count": null,
      "id": "d39d12dc",
      "metadata": {
        "id": "d39d12dc",
        "outputId": "586d0ebb-6cd1-4f7e-b35f-33a7514f482a"
      },
      "outputs": [
        {
          "name": "stdout",
          "output_type": "stream",
          "text": [
            "30\n"
          ]
        }
      ],
      "source": [
        "y=30\n",
        "print(y)"
      ]
    },
    {
      "cell_type": "code",
      "execution_count": null,
      "id": "294b5536",
      "metadata": {
        "id": "294b5536",
        "outputId": "65a01f31-790b-4dd5-ba3e-ec5c7673bbe2"
      },
      "outputs": [
        {
          "data": {
            "text/plain": [
              "(20, 30)"
            ]
          },
          "execution_count": 12,
          "metadata": {},
          "output_type": "execute_result"
        }
      ],
      "source": [
        "x,y"
      ]
    },
    {
      "cell_type": "code",
      "execution_count": null,
      "id": "5ff967ff",
      "metadata": {
        "id": "5ff967ff",
        "outputId": "0c58b526-8c30-4c28-9a37-df7a1e3a11a6"
      },
      "outputs": [
        {
          "name": "stdout",
          "output_type": "stream",
          "text": [
            "50\n"
          ]
        }
      ],
      "source": [
        "z=x+y\n",
        "print(z)"
      ]
    },
    {
      "cell_type": "code",
      "execution_count": null,
      "id": "cb4d68e3",
      "metadata": {
        "id": "cb4d68e3",
        "outputId": "e358cb46-b316-4864-bc65-e290604a06e0"
      },
      "outputs": [
        {
          "name": "stdout",
          "output_type": "stream",
          "text": [
            "sum of x and y is  50\n"
          ]
        }
      ],
      "source": [
        "print(\"sum of x and y is \",z)"
      ]
    },
    {
      "cell_type": "code",
      "execution_count": null,
      "id": "82c75e10",
      "metadata": {
        "id": "82c75e10",
        "outputId": "ce33da9f-f44b-47e2-e31c-0831391e349e"
      },
      "outputs": [
        {
          "name": "stdout",
          "output_type": "stream",
          "text": [
            "sum of  20  and  30  is  50\n"
          ]
        }
      ],
      "source": [
        "print(\"sum of \",x ,\" and \", y, \" is \",z)"
      ]
    },
    {
      "cell_type": "markdown",
      "id": "28fd3d56",
      "metadata": {
        "id": "28fd3d56"
      },
      "source": [
        "Task 1- Find subtractio of two numbers"
      ]
    },
    {
      "cell_type": "code",
      "execution_count": null,
      "id": "6848a32e",
      "metadata": {
        "id": "6848a32e",
        "outputId": "9572ccbd-c72c-4dde-fc34-59d1a2d46608"
      },
      "outputs": [
        {
          "name": "stdout",
          "output_type": "stream",
          "text": [
            "subtraction of  100  and  20  is  80\n"
          ]
        }
      ],
      "source": [
        "p=100\n",
        "q=20\n",
        "r=p-q\n",
        "print(\"subtraction of \",p ,\" and \", q, \" is \",r)"
      ]
    },
    {
      "cell_type": "markdown",
      "id": "4bf7cfb2",
      "metadata": {
        "id": "4bf7cfb2"
      },
      "source": [
        "Rules for Python variables:\n",
        "\n",
        "A variable name can be combination of letters, digits, underscores\n",
        "\n",
        "A variable name must start with a letter or the underscore character\n",
        "\n",
        "A variable name cannot start with a number\n",
        "Variable names are case-sensitive (age, Age and AGE are three different variables)\n",
        "\n",
        "No white space allowed in valriable names\n",
        "\n",
        "Keywords cannot be used as variable names"
      ]
    },
    {
      "cell_type": "code",
      "execution_count": null,
      "id": "d10a71b1",
      "metadata": {
        "id": "d10a71b1"
      },
      "outputs": [],
      "source": [
        "#Legal variable names:\n",
        "myage = 30\n",
        "my_age = 30\n",
        "_my_age = 30\n",
        "myAe = 30\n",
        "MYAGE = 30\n",
        "myage2 = 30\n",
        "\n",
        "#Illegal variable names:\n",
        "2myvar = 30\n",
        "my-var = 30\n",
        "my var = 30"
      ]
    },
    {
      "cell_type": "markdown",
      "id": "afbc2a8c",
      "metadata": {
        "id": "afbc2a8c"
      },
      "source": [
        "Task - 2: Create 2 variable names for valid and invalid category"
      ]
    },
    {
      "cell_type": "code",
      "execution_count": null,
      "id": "51247593",
      "metadata": {
        "id": "51247593"
      },
      "outputs": [],
      "source": [
        "#valid variable names\n",
        "age=33\n",
        "marks=78"
      ]
    },
    {
      "cell_type": "code",
      "execution_count": null,
      "id": "47f18dae",
      "metadata": {
        "id": "47f18dae",
        "outputId": "0c3fa430-3d8a-483e-f57d-e5de58d1d0f8"
      },
      "outputs": [
        {
          "ename": "SyntaxError",
          "evalue": "invalid syntax (Temp/ipykernel_9856/772683849.py, line 2)",
          "output_type": "error",
          "traceback": [
            "\u001b[1;36m  File \u001b[1;32m\"C:\\Users\\nilay\\AppData\\Local\\Temp/ipykernel_9856/772683849.py\"\u001b[1;36m, line \u001b[1;32m2\u001b[0m\n\u001b[1;33m    1age=33\u001b[0m\n\u001b[1;37m     ^\u001b[0m\n\u001b[1;31mSyntaxError\u001b[0m\u001b[1;31m:\u001b[0m invalid syntax\n"
          ]
        }
      ],
      "source": [
        "#invalid variable names\n",
        "1age=33\n",
        "science marks=78"
      ]
    },
    {
      "cell_type": "markdown",
      "id": "105a2621",
      "metadata": {
        "id": "105a2621"
      },
      "source": [
        "Keywords"
      ]
    },
    {
      "cell_type": "code",
      "execution_count": null,
      "id": "3e25a8de",
      "metadata": {
        "id": "3e25a8de"
      },
      "outputs": [],
      "source": [
        "help(\"keywords\")"
      ]
    },
    {
      "cell_type": "code",
      "execution_count": null,
      "id": "1e137604",
      "metadata": {
        "id": "1e137604"
      },
      "outputs": [],
      "source": [
        "break=22"
      ]
    },
    {
      "cell_type": "code",
      "execution_count": null,
      "id": "e1616da5",
      "metadata": {
        "id": "e1616da5"
      },
      "outputs": [],
      "source": [
        "break1=22"
      ]
    },
    {
      "cell_type": "markdown",
      "id": "fc285b1d",
      "metadata": {
        "id": "fc285b1d"
      },
      "source": [
        "Data types"
      ]
    },
    {
      "cell_type": "code",
      "execution_count": null,
      "id": "db2b93b0",
      "metadata": {
        "id": "db2b93b0"
      },
      "outputs": [],
      "source": [
        "a=11\n",
        "a"
      ]
    },
    {
      "cell_type": "code",
      "execution_count": null,
      "id": "573de3be",
      "metadata": {
        "id": "573de3be"
      },
      "outputs": [],
      "source": [
        "type(a)"
      ]
    },
    {
      "cell_type": "code",
      "execution_count": null,
      "id": "4f7479e4",
      "metadata": {
        "id": "4f7479e4"
      },
      "outputs": [],
      "source": [
        "b=22.5\n",
        "type(b)"
      ]
    },
    {
      "cell_type": "markdown",
      "id": "70f5b160",
      "metadata": {
        "id": "70f5b160"
      },
      "source": [
        "Data types in Python\n",
        "\n",
        "Text Type: str\n",
        "\n",
        "Numeric Types: int, float, complex\n",
        "\n",
        "Sequence Types: list, tuple, range\n",
        "\n",
        "Mapping Type: dict\n",
        "\n",
        "Set Types: set, frozenset\n",
        "\n",
        "Boolean Type: bool\n",
        "\n",
        "Binary Types: bytes, bytearray, memoryview"
      ]
    },
    {
      "cell_type": "code",
      "execution_count": null,
      "id": "a29e81ee",
      "metadata": {
        "id": "a29e81ee"
      },
      "outputs": [],
      "source": [
        "city=\"Johannesburg\"\n",
        "print(city)\n",
        "type(city)"
      ]
    },
    {
      "cell_type": "code",
      "execution_count": null,
      "id": "14576093",
      "metadata": {
        "id": "14576093"
      },
      "outputs": [],
      "source": [
        "is_eligible_for_voting=True\n",
        "print(is_eligible_for_voting)\n",
        "type(is_eligible_for_voting)"
      ]
    },
    {
      "cell_type": "markdown",
      "id": "31a61351",
      "metadata": {
        "id": "31a61351"
      },
      "source": [
        "Task 3: Initialise following variables with appropriate values, print their values using ptint functiona and mentione their data type with type function"
      ]
    },
    {
      "cell_type": "code",
      "execution_count": null,
      "id": "dc913a2d",
      "metadata": {
        "id": "dc913a2d"
      },
      "outputs": [],
      "source": [
        "number_of_rooms=10\n",
        "print(number_of_rooms)\n",
        "type(number_of_rooms)"
      ]
    },
    {
      "cell_type": "code",
      "execution_count": null,
      "id": "5d51a0e0",
      "metadata": {
        "id": "5d51a0e0"
      },
      "outputs": [],
      "source": [
        "temperature=34.5\n",
        "print(temperature)\n",
        "type(temperature)"
      ]
    },
    {
      "cell_type": "code",
      "execution_count": null,
      "id": "8a381f29",
      "metadata": {
        "id": "8a381f29"
      },
      "outputs": [],
      "source": [
        "first_name=\"Joy\"\n",
        "print(first_name)\n",
        "type(first_name)"
      ]
    },
    {
      "cell_type": "code",
      "execution_count": null,
      "id": "7b9c2fd5",
      "metadata": {
        "id": "7b9c2fd5"
      },
      "outputs": [],
      "source": [
        "is_registered=False\n",
        "print(is_registered)\n",
        "type(is_registered)"
      ]
    },
    {
      "cell_type": "markdown",
      "id": "c06e7b68",
      "metadata": {
        "id": "c06e7b68"
      },
      "source": [
        "Input function"
      ]
    },
    {
      "cell_type": "code",
      "execution_count": null,
      "id": "81f7501a",
      "metadata": {
        "id": "81f7501a"
      },
      "outputs": [],
      "source": [
        "p=100\n",
        "q=20\n",
        "r=p+q\n",
        "print(\"addition of \",p ,\" and \", q, \" is \",r)"
      ]
    },
    {
      "cell_type": "code",
      "execution_count": null,
      "id": "93cc7cdb",
      "metadata": {
        "id": "93cc7cdb"
      },
      "outputs": [],
      "source": [
        "p=input(\" Enter the value of p\")"
      ]
    },
    {
      "cell_type": "code",
      "execution_count": null,
      "id": "c1972d58",
      "metadata": {
        "colab": {
          "base_uri": "https://localhost:8080/",
          "height": 35
        },
        "id": "c1972d58",
        "outputId": "8c991685-71eb-4ae9-8756-de53f95ced4e"
      },
      "outputs": [
        {
          "output_type": "execute_result",
          "data": {
            "text/plain": [
              "'111'"
            ],
            "application/vnd.google.colaboratory.intrinsic+json": {
              "type": "string"
            }
          },
          "metadata": {},
          "execution_count": 8
        }
      ],
      "source": [
        "p"
      ]
    },
    {
      "cell_type": "code",
      "execution_count": null,
      "id": "7329f1b5",
      "metadata": {
        "colab": {
          "base_uri": "https://localhost:8080/"
        },
        "id": "7329f1b5",
        "outputId": "d345dacf-4378-4210-e716-f7149e58777e"
      },
      "outputs": [
        {
          "output_type": "execute_result",
          "data": {
            "text/plain": [
              "str"
            ]
          },
          "metadata": {},
          "execution_count": 9
        }
      ],
      "source": [
        "type(p)"
      ]
    },
    {
      "cell_type": "code",
      "execution_count": null,
      "id": "88b1f921",
      "metadata": {
        "colab": {
          "base_uri": "https://localhost:8080/"
        },
        "id": "88b1f921",
        "outputId": "fdae7df4-7d99-4bbc-f4a9-161306110d53"
      },
      "outputs": [
        {
          "output_type": "stream",
          "name": "stdout",
          "text": [
            "111\n"
          ]
        },
        {
          "output_type": "execute_result",
          "data": {
            "text/plain": [
              "int"
            ]
          },
          "metadata": {},
          "execution_count": 10
        }
      ],
      "source": [
        "p=int(p)\n",
        "print(p)\n",
        "type(p)"
      ]
    },
    {
      "cell_type": "code",
      "execution_count": null,
      "id": "aeed2419",
      "metadata": {
        "colab": {
          "base_uri": "https://localhost:8080/"
        },
        "id": "aeed2419",
        "outputId": "1feeb7f6-c332-4188-938c-932abd2bb62f"
      },
      "outputs": [
        {
          "output_type": "stream",
          "name": "stdout",
          "text": [
            " enter the value of q 22\n",
            "22\n"
          ]
        },
        {
          "output_type": "execute_result",
          "data": {
            "text/plain": [
              "int"
            ]
          },
          "metadata": {},
          "execution_count": 11
        }
      ],
      "source": [
        "q=input(\" enter the value of q \")\n",
        "q=int(q)\n",
        "print(q)\n",
        "type(q)"
      ]
    },
    {
      "cell_type": "code",
      "execution_count": null,
      "id": "ae0af053",
      "metadata": {
        "colab": {
          "base_uri": "https://localhost:8080/"
        },
        "id": "ae0af053",
        "outputId": "1085571a-2cd3-4adc-c0a9-df77c09cbe14"
      },
      "outputs": [
        {
          "output_type": "stream",
          "name": "stdout",
          "text": [
            "sum =  133\n"
          ]
        }
      ],
      "source": [
        "z=p+q\n",
        "print(\"sum = \",z)"
      ]
    },
    {
      "cell_type": "markdown",
      "id": "7fe0cb0c",
      "metadata": {
        "id": "7fe0cb0c"
      },
      "source": [
        "Coffee shop billing application"
      ]
    },
    {
      "cell_type": "code",
      "execution_count": null,
      "id": "ee955e38",
      "metadata": {
        "id": "ee955e38"
      },
      "outputs": [],
      "source": [
        "# i/p - quantity, unit_price\n",
        "# calculations - quantity * unit_price\n",
        "# o/p - bill_amount"
      ]
    },
    {
      "cell_type": "code",
      "execution_count": null,
      "id": "e41b8fe7",
      "metadata": {
        "colab": {
          "base_uri": "https://localhost:8080/"
        },
        "id": "e41b8fe7",
        "outputId": "2349620a-985b-45b0-e29d-a11eab85f577"
      },
      "outputs": [
        {
          "name": "stdout",
          "output_type": "stream",
          "text": [
            "enter the quantity of coffee cups 10\n"
          ]
        }
      ],
      "source": [
        "quantity = input(\"enter the quantity of coffee cups \")\n",
        "quantity=int(quantity)\n"
      ]
    },
    {
      "cell_type": "code",
      "source": [
        "print(quantity)"
      ],
      "metadata": {
        "colab": {
          "base_uri": "https://localhost:8080/"
        },
        "id": "CzRLcH7bqtYy",
        "outputId": "b05945f2-4b4e-4658-c680-c4a1e27fe527"
      },
      "id": "CzRLcH7bqtYy",
      "execution_count": null,
      "outputs": [
        {
          "output_type": "stream",
          "name": "stdout",
          "text": [
            "10\n"
          ]
        }
      ]
    },
    {
      "cell_type": "code",
      "execution_count": null,
      "id": "204d0869",
      "metadata": {
        "scrolled": true,
        "colab": {
          "base_uri": "https://localhost:8080/"
        },
        "id": "204d0869",
        "outputId": "ba24d9c3-678d-40ae-ed5b-62071888a94e"
      },
      "outputs": [
        {
          "name": "stdout",
          "output_type": "stream",
          "text": [
            "enter the unit price of a coffee cup 25\n"
          ]
        }
      ],
      "source": [
        "unit_price = input(\"enter the unit price of a coffee cup \")\n",
        "unit_price=float(unit_price)"
      ]
    },
    {
      "cell_type": "code",
      "execution_count": null,
      "id": "1364292c",
      "metadata": {
        "colab": {
          "base_uri": "https://localhost:8080/"
        },
        "id": "1364292c",
        "outputId": "7c29b51d-c5d5-44b7-c19b-eb3c7f7230f6"
      },
      "outputs": [
        {
          "output_type": "execute_result",
          "data": {
            "text/plain": [
              "(10, 25.0)"
            ]
          },
          "metadata": {},
          "execution_count": 21
        }
      ],
      "source": [
        "quantity,unit_price"
      ]
    },
    {
      "cell_type": "code",
      "execution_count": null,
      "id": "39f91b8c",
      "metadata": {
        "id": "39f91b8c"
      },
      "outputs": [],
      "source": [
        "bill_amount = quantity*unit_price"
      ]
    },
    {
      "cell_type": "code",
      "execution_count": null,
      "id": "90dfd17b",
      "metadata": {
        "colab": {
          "base_uri": "https://localhost:8080/"
        },
        "id": "90dfd17b",
        "outputId": "2ce05c42-f786-4c39-eb2d-955c61c3dbdb"
      },
      "outputs": [
        {
          "output_type": "stream",
          "name": "stdout",
          "text": [
            "Bill amount =  255.0\n"
          ]
        }
      ],
      "source": [
        "print(\"Bill amount = \",bill_amount)"
      ]
    },
    {
      "cell_type": "code",
      "source": [
        "\n",
        "temp=input(\"enter temperature value in  celsius\")"
      ],
      "metadata": {
        "colab": {
          "base_uri": "https://localhost:8080/"
        },
        "id": "F9cqUsIerPUF",
        "outputId": "a9ed8da2-7a82-4668-e263-563462aa3f78"
      },
      "id": "F9cqUsIerPUF",
      "execution_count": null,
      "outputs": [
        {
          "name": "stdout",
          "output_type": "stream",
          "text": [
            "enter temperature value in  celsius33\n"
          ]
        }
      ]
    },
    {
      "cell_type": "code",
      "source": [
        "#Task lenth conversion- input Kilometers , output miles\n",
        "#Task temp. conversion - input celcius, output far.\n",
        "#Task corruncy conversion- input RAND, output USD/INR\n",
        "#Task calculate simple intrest- input p,n,r, output simple intrest\n",
        "#Task area of triangle - input - ht, base, output area of triangle"
      ],
      "metadata": {
        "id": "fPpmwG2qrPPE"
      },
      "id": "fPpmwG2qrPPE",
      "execution_count": null,
      "outputs": []
    },
    {
      "cell_type": "code",
      "source": [
        "km=input(\"enter the distance in kms \")"
      ],
      "metadata": {
        "id": "9pxBAhfvrPL0"
      },
      "id": "9pxBAhfvrPL0",
      "execution_count": null,
      "outputs": []
    },
    {
      "cell_type": "code",
      "source": [
        "km"
      ],
      "metadata": {
        "id": "vUyMzuOJrPFt"
      },
      "id": "vUyMzuOJrPFt",
      "execution_count": null,
      "outputs": []
    },
    {
      "cell_type": "code",
      "source": [
        "km=float(km)"
      ],
      "metadata": {
        "id": "tvR2EbHtuHoq"
      },
      "id": "tvR2EbHtuHoq",
      "execution_count": null,
      "outputs": []
    },
    {
      "cell_type": "code",
      "source": [
        "miles=0.62*km\n",
        "miles"
      ],
      "metadata": {
        "id": "Sjh3tE37rPCG"
      },
      "id": "Sjh3tE37rPCG",
      "execution_count": null,
      "outputs": []
    },
    {
      "cell_type": "code",
      "source": [
        "print(miles,\"m = \",km,\" kms\")"
      ],
      "metadata": {
        "id": "pEr5DfN_rO9K"
      },
      "id": "pEr5DfN_rO9K",
      "execution_count": null,
      "outputs": []
    },
    {
      "cell_type": "code",
      "source": [
        "#Task corruncy conversion- input RAND, output USD/INR\n",
        "rand_value=input(\"Enter amount in rand \")\n",
        "rand_value=float(rand_value)\n",
        "usd_value=rand_value/16\n",
        "print(\"R\",rand_value,\" is equivalent of \", usd_value,\" USD\")"
      ],
      "metadata": {
        "colab": {
          "base_uri": "https://localhost:8080/"
        },
        "id": "-rhhg6xerOyT",
        "outputId": "3e6aaa9e-ee36-4550-ee2a-dbf18c808713"
      },
      "id": "-rhhg6xerOyT",
      "execution_count": null,
      "outputs": [
        {
          "output_type": "stream",
          "name": "stdout",
          "text": [
            "Enter amount in rand 45454.66\n",
            "R 45454.66  is equivalent of  2840.91625  USD\n"
          ]
        }
      ]
    },
    {
      "cell_type": "code",
      "source": [
        ""
      ],
      "metadata": {
        "id": "_O-MIEborOe1"
      },
      "id": "_O-MIEborOe1",
      "execution_count": null,
      "outputs": []
    },
    {
      "cell_type": "code",
      "execution_count": null,
      "id": "71a6f4ba",
      "metadata": {
        "id": "71a6f4ba"
      },
      "outputs": [],
      "source": [
        "!pip install forex_python"
      ]
    },
    {
      "cell_type": "code",
      "execution_count": null,
      "id": "4f03ef66",
      "metadata": {
        "id": "4f03ef66"
      },
      "outputs": [],
      "source": [
        "#Task corruncy conversion- input RAND, output USD/INR\n",
        "from forex_python.converter import CurrencyRates\n",
        "\n",
        "c = CurrencyRates()\n",
        "v = c.get_rate('USD', 'ZAR')\n",
        "x = c.get_rate('INR','ZAR')\n",
        "rand_value=float(input(\"Enter amount in rand: \"))\n",
        "inr_val= round(rand_value/x,2)\n",
        "usd_value=round(rand_value/v, 2)\n",
        "print(\"R\",rand_value,\" is equivalent of \", usd_value,\" USD at a conversion rate of \",round(v,2))\n",
        "print(\"R\",rand_value,\" is equivalent of \", inr_val,\" INR at a conversion rate of \",round(x,2))"
      ]
    },
    {
      "cell_type": "code",
      "execution_count": null,
      "id": "482610b3",
      "metadata": {
        "id": "482610b3"
      },
      "outputs": [],
      "source": [
        "# task temp convert \n",
        "cel_val = float(input(\"please enter your value for conversion \"))\n",
        "far_val = (cel_val * 1.8) + 32\n",
        "far_rev = (cel_val -32) / 1.8\n",
        "print(\"The temp of \",cel_val,chr(176),\"C  is the same as \",far_val,chr(176),\"F while \",cel_val,chr(176),\" F is the same as \",far_rev,chr(176),\"C\")"
      ]
    },
    {
      "cell_type": "code",
      "source": [
        "#Task area of triangle - input - ht, base, output area of triangle\n",
        "ht,base  = map(float,input(\"Enter the hieght of the triangle: then spacebar  base of the triangle: \").split())\n",
        "\n",
        "area = (base * ht)/2\n",
        "pi = 3.14\n",
        "area_circ = pi * ht *ht\n",
        "print (\"The area of the triangle is \",area)\n",
        "print (\"the area of a circle with  a radius the same height as the triangle would be\",area_circ)"
      ],
      "metadata": {
        "id": "DMFDnK6K00o7"
      },
      "id": "DMFDnK6K00o7",
      "execution_count": null,
      "outputs": []
    },
    {
      "cell_type": "code",
      "source": [
        "\n",
        "#Task calculate simple intrest- input p,n,r, output simple intrest\n",
        "p = float(input(\"Please enter Primary Balance in whole number: \"))\n",
        "r = float(input(\"Please input base intrest rate in whole number: \"))\n",
        "t,m = map(float,input(\"Please input number of years: then space bar months: \").split())\n",
        "m = m/12\n",
        "t = t +m\n",
        "final_r = 25\n",
        "\n",
        "while (r <= final_r):\n",
        "  final_amount = (p * r * t)/100\n",
        "  print (\"The final amount is R\",final_amount + p,\"simple intrest is \",final_amount,\" at \",r,chr(37),\"in \",t,\"years\",chr(13))\n",
        "  r+=1"
      ],
      "metadata": {
        "id": "OOHEgZ4Mcnq0",
        "colab": {
          "base_uri": "https://localhost:8080/"
        },
        "outputId": "571b3687-e9a6-40a4-d08b-c69a426ad094"
      },
      "id": "OOHEgZ4Mcnq0",
      "execution_count": null,
      "outputs": [
        {
          "output_type": "stream",
          "name": "stdout",
          "text": [
            "Please enter Primary Balance in whole number: 100\n",
            "Please input base intrest rate in whole number: 5\n",
            "Please input number of years: then space bar months: 5 6\n",
            "The final amount is R 127.5 simple intrest is  27.5  at  5.0 % in  5.5 years \n",
            "The final amount is R 133.0 simple intrest is  33.0  at  6.0 % in  5.5 years \n",
            "The final amount is R 138.5 simple intrest is  38.5  at  7.0 % in  5.5 years \n",
            "The final amount is R 144.0 simple intrest is  44.0  at  8.0 % in  5.5 years \n",
            "The final amount is R 149.5 simple intrest is  49.5  at  9.0 % in  5.5 years \n",
            "The final amount is R 155.0 simple intrest is  55.0  at  10.0 % in  5.5 years \n",
            "The final amount is R 160.5 simple intrest is  60.5  at  11.0 % in  5.5 years \n",
            "The final amount is R 166.0 simple intrest is  66.0  at  12.0 % in  5.5 years \n",
            "The final amount is R 171.5 simple intrest is  71.5  at  13.0 % in  5.5 years \n",
            "The final amount is R 177.0 simple intrest is  77.0  at  14.0 % in  5.5 years \n",
            "The final amount is R 182.5 simple intrest is  82.5  at  15.0 % in  5.5 years \n",
            "The final amount is R 188.0 simple intrest is  88.0  at  16.0 % in  5.5 years \n",
            "The final amount is R 193.5 simple intrest is  93.5  at  17.0 % in  5.5 years \n",
            "The final amount is R 199.0 simple intrest is  99.0  at  18.0 % in  5.5 years \n",
            "The final amount is R 204.5 simple intrest is  104.5  at  19.0 % in  5.5 years \n",
            "The final amount is R 210.0 simple intrest is  110.0  at  20.0 % in  5.5 years \n",
            "The final amount is R 215.5 simple intrest is  115.5  at  21.0 % in  5.5 years \n",
            "The final amount is R 221.0 simple intrest is  121.0  at  22.0 % in  5.5 years \n",
            "The final amount is R 226.5 simple intrest is  126.5  at  23.0 % in  5.5 years \n",
            "The final amount is R 232.0 simple intrest is  132.0  at  24.0 % in  5.5 years \n",
            "The final amount is R 237.5 simple intrest is  137.5  at  25.0 % in  5.5 years \n"
          ]
        }
      ]
    }
  ],
  "metadata": {
    "kernelspec": {
      "display_name": "Python 3 (ipykernel)",
      "language": "python",
      "name": "python3"
    },
    "language_info": {
      "codemirror_mode": {
        "name": "ipython",
        "version": 3
      },
      "file_extension": ".py",
      "mimetype": "text/x-python",
      "name": "python",
      "nbconvert_exporter": "python",
      "pygments_lexer": "ipython3",
      "version": "3.9.7"
    },
    "colab": {
      "name": "1_Python_basics.ipynb",
      "provenance": [],
      "collapsed_sections": []
    }
  },
  "nbformat": 4,
  "nbformat_minor": 5
}