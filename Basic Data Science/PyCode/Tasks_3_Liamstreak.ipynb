{
 "cells": [
  {
   "cell_type": "code",
   "execution_count": 3,
   "id": "1de6d2a9",
   "metadata": {},
   "outputs": [
    {
     "name": "stdout",
     "output_type": "stream",
     "text": [
      "please enter username hello\n",
      "username to short \n"
     ]
    }
   ],
   "source": [
    "#task check username lenght\n",
    "u_name = input(\"please enter username \")\n",
    "\n",
    "if (len(u_name) >= 6):\n",
    "    print(\"username length correct \")\n",
    "else:\n",
    "    print(\"username to short \")"
   ]
  },
  {
   "cell_type": "code",
   "execution_count": 9,
   "id": "fcf75496",
   "metadata": {},
   "outputs": [
    {
     "name": "stdout",
     "output_type": "stream",
     "text": [
      "Please enter product type to check list\n",
      "product not in list,would you like to add it Y/N\n",
      "thank you \n"
     ]
    }
   ],
   "source": [
    "#task check product list\n",
    "lst = [\"phone\",\"car\",\"tablet\"]\n",
    "n_prod = input(\"Please enter product type to check list\")\n",
    "if n_prod in lst:\n",
    "    print(\"product type alreay in list\")\n",
    "else:\n",
    "    select=input(\"product not in list,would you like to add it Y/N\")\n",
    "    if select == \"Y\":\n",
    "        lst.append(n_prod)\n",
    "        print(\"Product added to list \",lst)\n",
    "    else:\n",
    "        print(\"thank you \")\n",
    "    "
   ]
  },
  {
   "cell_type": "code",
   "execution_count": 10,
   "id": "77c05eaa",
   "metadata": {},
   "outputs": [],
   "source": [
    "#check student fail or pass\n"
   ]
  },
  {
   "cell_type": "code",
   "execution_count": 30,
   "id": "3cd7e8b7",
   "metadata": {},
   "outputs": [
    {
     "name": "stdout",
     "output_type": "stream",
     "text": [
      "please enter username helloworld\n",
      "username length correct and is alphabetic\n"
     ]
    }
   ],
   "source": [
    "#username check for lenght of 6 and alpha\n",
    "u_name = input(\"please enter username \")\n",
    "if (len(u_name) >= 6) and u_name.isalpha():\n",
    "    print(\"username length correct and is alphabetic\")\n",
    "elif (len(u_name) < 6) and u_name.isalpha():\n",
    "    print(\"username to short \")\n",
    "   \n",
    "elif (len(u_name) >= 6) and u_name.isalpha() ==False:\n",
    "    print(\"username needs to be only alphabet characters\")\n",
    "   \n",
    "else:\n",
    "    print(\"username incorrect format needs to be at least 6 characters and alphabetic\")"
   ]
  },
  {
   "cell_type": "code",
   "execution_count": null,
   "id": "8326d6e8",
   "metadata": {},
   "outputs": [],
   "source": [
    "#task calculate simple intrest at discount based on age\n",
    "p = float(input(\"Please enter Primary Balance in whole number: \"))\n",
    "r = float(input(\"Please input base intrest rate in whole number: \"))\n",
    "t,m = map(float,input(\"Please input number of years: then space bar enter months: \").split())\n",
    "age = int(input(\"please enter your age: \"))\n",
    "m = m/12\n",
    "t = t +m\n",
    "final_r = 25\n",
    "\n",
    "while (r <= final_r):\n",
    "  final_amount = (p * r * t)/100\n",
    "  print (\"The final amount is R\",final_amount + p,\"simple intrest is \",final_amount,\" at \",r,chr(37),\"in \",t,\"years\",chr(13))\n",
    "  r+=1"
   ]
  }
 ],
 "metadata": {
  "kernelspec": {
   "display_name": "Python 3 (ipykernel)",
   "language": "python",
   "name": "python3"
  },
  "language_info": {
   "codemirror_mode": {
    "name": "ipython",
    "version": 3
   },
   "file_extension": ".py",
   "mimetype": "text/x-python",
   "name": "python",
   "nbconvert_exporter": "python",
   "pygments_lexer": "ipython3",
   "version": "3.9.12"
  }
 },
 "nbformat": 4,
 "nbformat_minor": 5
}
